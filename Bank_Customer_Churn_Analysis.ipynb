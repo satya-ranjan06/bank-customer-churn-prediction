{
 "cells": [
  {
   "cell_type": "markdown",
   "id": "bb11dfdf",
   "metadata": {},
   "source": [
    "# Bank Customer Churn - Python Analysis\n",
    "\n",
    "## Business Problem\n",
    "\n",
    "A bank is losing some customers, and they want to understand why.  \n",
    "This situation is called **Customer Churn** (when customers leave the bank).  \n",
    "The bank gave us a dataset of 10,000 customers with details like:\n",
    "\n",
    "- Age, Gender, Geography\n",
    "- Credit Score, Balance, Salary\n",
    "- Whether the customer left the bank or not (Exited column)\n",
    "\n",
    "Our goal is to **analyze the data** and find patterns of churn using Python.\n",
    "\n",
    "---\n",
    "\n",
    "## Objective of Python Analysis\n",
    "\n",
    "We have already analyzed the data using SQL.  \n",
    "Now we will analyze the same data using Python in more detail.\n",
    "\n",
    "### What we will do step-by-step:\n",
    "\n",
    "1. **Import Required Libraries** (Pandas, Numpy, Seaborn, Matplotlib)\n",
    "2. **Load the Dataset** using Pandas\n",
    "3. **Explore the Data**:\n",
    "   - Check structure, shape, column types\n",
    "   - See missing values (if any)\n",
    "   - View basic statistics\n",
    "4. **Clean the Data**:\n",
    "   - Drop unwanted columns\n",
    "   - Encode categorical columns if needed\n",
    "5. **Perform Exploratory Data Analysis (EDA)**:\n",
    "   - How many customers churned?\n",
    "   - Churn rate by gender\n",
    "   - Churn rate by geography (France, Germany, Spain)\n",
    "   - Churn by age group, balance, credit score etc.\n",
    "   - Compare Active vs Inactive members\n",
    "6. **Create Visualizations** using Seaborn/Matplotlib\n",
    "   - Bar plots, pie charts, histograms, etc.\n",
    "7. **(Optional Bonus)**: Prepare the data for machine learning and predict churn using a basic model (Logistic Regression).\n",
    "\n",
    "---\n",
    "\n",
    "## Dataset Information\n",
    "\n",
    "- File Name: `Churn_Modelling.csv`\n",
    "- Total Rows: 10,000\n",
    "- Target Column: `Exited` (1 = customer left, 0 = customer stayed)\n",
    "\n",
    "---\n",
    "\n",
    "## Final Goal\n",
    "\n",
    "After completing this Python analysis:\n",
    "- We will understand which customers are more likely to leave the bank.\n",
    "- These insights will help the bank **reduce churn** and **improve customer satisfaction**.\n"
   ]
  },
  {
   "cell_type": "code",
   "execution_count": 1,
   "id": "ff379ebd",
   "metadata": {},
   "outputs": [],
   "source": [
    "#Import All Required Libraries\n",
    "# Data handling\n",
    "import pandas as pd\n",
    "import numpy as np\n",
    "\n",
    "# Visualization\n",
    "import matplotlib.pyplot as plt\n",
    "import seaborn as sns\n",
    "\n",
    "import warnings\n",
    "warnings.filterwarnings('ignore')\n",
    "# Set Seaborn style\n",
    "sns.set(style=\"whitegrid\")"
   ]
  },
  {
   "cell_type": "code",
   "execution_count": 2,
   "id": "5698c86d",
   "metadata": {},
   "outputs": [
    {
     "data": {
      "application/vnd.microsoft.datawrangler.viewer.v0+json": {
       "columns": [
        {
         "name": "index",
         "rawType": "int64",
         "type": "integer"
        },
        {
         "name": "CustomerId",
         "rawType": "int64",
         "type": "integer"
        },
        {
         "name": "Surname",
         "rawType": "object",
         "type": "string"
        },
        {
         "name": "CreditScore",
         "rawType": "int64",
         "type": "integer"
        },
        {
         "name": "Geography",
         "rawType": "object",
         "type": "string"
        },
        {
         "name": "Gender",
         "rawType": "object",
         "type": "string"
        },
        {
         "name": "Age",
         "rawType": "int64",
         "type": "integer"
        },
        {
         "name": "Tenure",
         "rawType": "int64",
         "type": "integer"
        },
        {
         "name": "Balance",
         "rawType": "float64",
         "type": "float"
        },
        {
         "name": "NumOfProducts",
         "rawType": "int64",
         "type": "integer"
        },
        {
         "name": "HasCrCard",
         "rawType": "int64",
         "type": "integer"
        },
        {
         "name": "IsActiveMember",
         "rawType": "int64",
         "type": "integer"
        },
        {
         "name": "EstimatedSalary",
         "rawType": "float64",
         "type": "float"
        },
        {
         "name": "Exited",
         "rawType": "int64",
         "type": "integer"
        }
       ],
       "conversionMethod": "pd.DataFrame",
       "ref": "79757cd7-d0cf-46c9-aa50-b42b2e152bea",
       "rows": [
        [
         "0",
         "15634602",
         "Hargrave",
         "619",
         "France",
         "Female",
         "42",
         "2",
         "0.0",
         "1",
         "1",
         "1",
         "101348.88",
         "1"
        ],
        [
         "1",
         "15647311",
         "Hill",
         "608",
         "Spain",
         "Female",
         "41",
         "1",
         "83807.86",
         "1",
         "0",
         "1",
         "112542.58",
         "0"
        ],
        [
         "2",
         "15619304",
         "Onio",
         "502",
         "France",
         "Female",
         "42",
         "8",
         "159660.8",
         "3",
         "1",
         "0",
         "113931.57",
         "1"
        ],
        [
         "3",
         "15701354",
         "Boni",
         "699",
         "France",
         "Female",
         "39",
         "1",
         "0.0",
         "2",
         "0",
         "0",
         "93826.63",
         "0"
        ],
        [
         "4",
         "15737888",
         "Mitchell",
         "850",
         "Spain",
         "Female",
         "43",
         "2",
         "125510.82",
         "1",
         "1",
         "1",
         "79084.1",
         "0"
        ]
       ],
       "shape": {
        "columns": 13,
        "rows": 5
       }
      },
      "text/html": [
       "<div>\n",
       "<style scoped>\n",
       "    .dataframe tbody tr th:only-of-type {\n",
       "        vertical-align: middle;\n",
       "    }\n",
       "\n",
       "    .dataframe tbody tr th {\n",
       "        vertical-align: top;\n",
       "    }\n",
       "\n",
       "    .dataframe thead th {\n",
       "        text-align: right;\n",
       "    }\n",
       "</style>\n",
       "<table border=\"1\" class=\"dataframe\">\n",
       "  <thead>\n",
       "    <tr style=\"text-align: right;\">\n",
       "      <th></th>\n",
       "      <th>CustomerId</th>\n",
       "      <th>Surname</th>\n",
       "      <th>CreditScore</th>\n",
       "      <th>Geography</th>\n",
       "      <th>Gender</th>\n",
       "      <th>Age</th>\n",
       "      <th>Tenure</th>\n",
       "      <th>Balance</th>\n",
       "      <th>NumOfProducts</th>\n",
       "      <th>HasCrCard</th>\n",
       "      <th>IsActiveMember</th>\n",
       "      <th>EstimatedSalary</th>\n",
       "      <th>Exited</th>\n",
       "    </tr>\n",
       "  </thead>\n",
       "  <tbody>\n",
       "    <tr>\n",
       "      <th>0</th>\n",
       "      <td>15634602</td>\n",
       "      <td>Hargrave</td>\n",
       "      <td>619</td>\n",
       "      <td>France</td>\n",
       "      <td>Female</td>\n",
       "      <td>42</td>\n",
       "      <td>2</td>\n",
       "      <td>0.00</td>\n",
       "      <td>1</td>\n",
       "      <td>1</td>\n",
       "      <td>1</td>\n",
       "      <td>101348.88</td>\n",
       "      <td>1</td>\n",
       "    </tr>\n",
       "    <tr>\n",
       "      <th>1</th>\n",
       "      <td>15647311</td>\n",
       "      <td>Hill</td>\n",
       "      <td>608</td>\n",
       "      <td>Spain</td>\n",
       "      <td>Female</td>\n",
       "      <td>41</td>\n",
       "      <td>1</td>\n",
       "      <td>83807.86</td>\n",
       "      <td>1</td>\n",
       "      <td>0</td>\n",
       "      <td>1</td>\n",
       "      <td>112542.58</td>\n",
       "      <td>0</td>\n",
       "    </tr>\n",
       "    <tr>\n",
       "      <th>2</th>\n",
       "      <td>15619304</td>\n",
       "      <td>Onio</td>\n",
       "      <td>502</td>\n",
       "      <td>France</td>\n",
       "      <td>Female</td>\n",
       "      <td>42</td>\n",
       "      <td>8</td>\n",
       "      <td>159660.80</td>\n",
       "      <td>3</td>\n",
       "      <td>1</td>\n",
       "      <td>0</td>\n",
       "      <td>113931.57</td>\n",
       "      <td>1</td>\n",
       "    </tr>\n",
       "    <tr>\n",
       "      <th>3</th>\n",
       "      <td>15701354</td>\n",
       "      <td>Boni</td>\n",
       "      <td>699</td>\n",
       "      <td>France</td>\n",
       "      <td>Female</td>\n",
       "      <td>39</td>\n",
       "      <td>1</td>\n",
       "      <td>0.00</td>\n",
       "      <td>2</td>\n",
       "      <td>0</td>\n",
       "      <td>0</td>\n",
       "      <td>93826.63</td>\n",
       "      <td>0</td>\n",
       "    </tr>\n",
       "    <tr>\n",
       "      <th>4</th>\n",
       "      <td>15737888</td>\n",
       "      <td>Mitchell</td>\n",
       "      <td>850</td>\n",
       "      <td>Spain</td>\n",
       "      <td>Female</td>\n",
       "      <td>43</td>\n",
       "      <td>2</td>\n",
       "      <td>125510.82</td>\n",
       "      <td>1</td>\n",
       "      <td>1</td>\n",
       "      <td>1</td>\n",
       "      <td>79084.10</td>\n",
       "      <td>0</td>\n",
       "    </tr>\n",
       "  </tbody>\n",
       "</table>\n",
       "</div>"
      ],
      "text/plain": [
       "   CustomerId   Surname  CreditScore Geography  Gender  Age  Tenure  \\\n",
       "0    15634602  Hargrave          619    France  Female   42       2   \n",
       "1    15647311      Hill          608     Spain  Female   41       1   \n",
       "2    15619304      Onio          502    France  Female   42       8   \n",
       "3    15701354      Boni          699    France  Female   39       1   \n",
       "4    15737888  Mitchell          850     Spain  Female   43       2   \n",
       "\n",
       "     Balance  NumOfProducts  HasCrCard  IsActiveMember  EstimatedSalary  \\\n",
       "0       0.00              1          1               1        101348.88   \n",
       "1   83807.86              1          0               1        112542.58   \n",
       "2  159660.80              3          1               0        113931.57   \n",
       "3       0.00              2          0               0         93826.63   \n",
       "4  125510.82              1          1               1         79084.10   \n",
       "\n",
       "   Exited  \n",
       "0       1  \n",
       "1       0  \n",
       "2       1  \n",
       "3       0  \n",
       "4       0  "
      ]
     },
     "execution_count": 2,
     "metadata": {},
     "output_type": "execute_result"
    }
   ],
   "source": [
    "# Load dataset\n",
    "df = pd.read_csv(\"Churn_Modelling.csv\")\n",
    "\n",
    "# Show first 5 rows\n",
    "df.head()"
   ]
  },
  {
   "cell_type": "code",
   "execution_count": 3,
   "id": "5b66d26e",
   "metadata": {},
   "outputs": [
    {
     "name": "stdout",
     "output_type": "stream",
     "text": [
      "<class 'pandas.core.frame.DataFrame'>\n",
      "RangeIndex: 10000 entries, 0 to 9999\n",
      "Data columns (total 13 columns):\n",
      " #   Column           Non-Null Count  Dtype  \n",
      "---  ------           --------------  -----  \n",
      " 0   CustomerId       10000 non-null  int64  \n",
      " 1   Surname          10000 non-null  object \n",
      " 2   CreditScore      10000 non-null  int64  \n",
      " 3   Geography        10000 non-null  object \n",
      " 4   Gender           10000 non-null  object \n",
      " 5   Age              10000 non-null  int64  \n",
      " 6   Tenure           10000 non-null  int64  \n",
      " 7   Balance          10000 non-null  float64\n",
      " 8   NumOfProducts    10000 non-null  int64  \n",
      " 9   HasCrCard        10000 non-null  int64  \n",
      " 10  IsActiveMember   10000 non-null  int64  \n",
      " 11  EstimatedSalary  10000 non-null  float64\n",
      " 12  Exited           10000 non-null  int64  \n",
      "dtypes: float64(2), int64(8), object(3)\n",
      "memory usage: 1015.8+ KB\n"
     ]
    }
   ],
   "source": [
    "#Check Structure of Dataset\n",
    "\n",
    "df.info()"
   ]
  },
  {
   "cell_type": "code",
   "execution_count": 4,
   "id": "8cdb4bb5",
   "metadata": {},
   "outputs": [
    {
     "data": {
      "text/plain": [
       "CustomerId         0\n",
       "Surname            0\n",
       "CreditScore        0\n",
       "Geography          0\n",
       "Gender             0\n",
       "Age                0\n",
       "Tenure             0\n",
       "Balance            0\n",
       "NumOfProducts      0\n",
       "HasCrCard          0\n",
       "IsActiveMember     0\n",
       "EstimatedSalary    0\n",
       "Exited             0\n",
       "dtype: int64"
      ]
     },
     "execution_count": 4,
     "metadata": {},
     "output_type": "execute_result"
    }
   ],
   "source": [
    "df.isnull().sum()"
   ]
  },
  {
   "cell_type": "code",
   "execution_count": 5,
   "id": "4634a4fe",
   "metadata": {},
   "outputs": [
    {
     "data": {
      "application/vnd.microsoft.datawrangler.viewer.v0+json": {
       "columns": [
        {
         "name": "index",
         "rawType": "int64",
         "type": "integer"
        },
        {
         "name": "CreditScore",
         "rawType": "int64",
         "type": "integer"
        },
        {
         "name": "Geography",
         "rawType": "object",
         "type": "string"
        },
        {
         "name": "Gender",
         "rawType": "object",
         "type": "string"
        },
        {
         "name": "Age",
         "rawType": "int64",
         "type": "integer"
        },
        {
         "name": "Tenure",
         "rawType": "int64",
         "type": "integer"
        },
        {
         "name": "Balance",
         "rawType": "float64",
         "type": "float"
        },
        {
         "name": "NumOfProducts",
         "rawType": "int64",
         "type": "integer"
        },
        {
         "name": "HasCrCard",
         "rawType": "int64",
         "type": "integer"
        },
        {
         "name": "IsActiveMember",
         "rawType": "int64",
         "type": "integer"
        },
        {
         "name": "EstimatedSalary",
         "rawType": "float64",
         "type": "float"
        },
        {
         "name": "Exited",
         "rawType": "int64",
         "type": "integer"
        }
       ],
       "conversionMethod": "pd.DataFrame",
       "ref": "0b120b4a-7a0a-41b0-9375-dc0c60fe9e24",
       "rows": [
        [
         "0",
         "619",
         "France",
         "Female",
         "42",
         "2",
         "0.0",
         "1",
         "1",
         "1",
         "101348.88",
         "1"
        ],
        [
         "1",
         "608",
         "Spain",
         "Female",
         "41",
         "1",
         "83807.86",
         "1",
         "0",
         "1",
         "112542.58",
         "0"
        ],
        [
         "2",
         "502",
         "France",
         "Female",
         "42",
         "8",
         "159660.8",
         "3",
         "1",
         "0",
         "113931.57",
         "1"
        ],
        [
         "3",
         "699",
         "France",
         "Female",
         "39",
         "1",
         "0.0",
         "2",
         "0",
         "0",
         "93826.63",
         "0"
        ],
        [
         "4",
         "850",
         "Spain",
         "Female",
         "43",
         "2",
         "125510.82",
         "1",
         "1",
         "1",
         "79084.1",
         "0"
        ]
       ],
       "shape": {
        "columns": 11,
        "rows": 5
       }
      },
      "text/html": [
       "<div>\n",
       "<style scoped>\n",
       "    .dataframe tbody tr th:only-of-type {\n",
       "        vertical-align: middle;\n",
       "    }\n",
       "\n",
       "    .dataframe tbody tr th {\n",
       "        vertical-align: top;\n",
       "    }\n",
       "\n",
       "    .dataframe thead th {\n",
       "        text-align: right;\n",
       "    }\n",
       "</style>\n",
       "<table border=\"1\" class=\"dataframe\">\n",
       "  <thead>\n",
       "    <tr style=\"text-align: right;\">\n",
       "      <th></th>\n",
       "      <th>CreditScore</th>\n",
       "      <th>Geography</th>\n",
       "      <th>Gender</th>\n",
       "      <th>Age</th>\n",
       "      <th>Tenure</th>\n",
       "      <th>Balance</th>\n",
       "      <th>NumOfProducts</th>\n",
       "      <th>HasCrCard</th>\n",
       "      <th>IsActiveMember</th>\n",
       "      <th>EstimatedSalary</th>\n",
       "      <th>Exited</th>\n",
       "    </tr>\n",
       "  </thead>\n",
       "  <tbody>\n",
       "    <tr>\n",
       "      <th>0</th>\n",
       "      <td>619</td>\n",
       "      <td>France</td>\n",
       "      <td>Female</td>\n",
       "      <td>42</td>\n",
       "      <td>2</td>\n",
       "      <td>0.00</td>\n",
       "      <td>1</td>\n",
       "      <td>1</td>\n",
       "      <td>1</td>\n",
       "      <td>101348.88</td>\n",
       "      <td>1</td>\n",
       "    </tr>\n",
       "    <tr>\n",
       "      <th>1</th>\n",
       "      <td>608</td>\n",
       "      <td>Spain</td>\n",
       "      <td>Female</td>\n",
       "      <td>41</td>\n",
       "      <td>1</td>\n",
       "      <td>83807.86</td>\n",
       "      <td>1</td>\n",
       "      <td>0</td>\n",
       "      <td>1</td>\n",
       "      <td>112542.58</td>\n",
       "      <td>0</td>\n",
       "    </tr>\n",
       "    <tr>\n",
       "      <th>2</th>\n",
       "      <td>502</td>\n",
       "      <td>France</td>\n",
       "      <td>Female</td>\n",
       "      <td>42</td>\n",
       "      <td>8</td>\n",
       "      <td>159660.80</td>\n",
       "      <td>3</td>\n",
       "      <td>1</td>\n",
       "      <td>0</td>\n",
       "      <td>113931.57</td>\n",
       "      <td>1</td>\n",
       "    </tr>\n",
       "    <tr>\n",
       "      <th>3</th>\n",
       "      <td>699</td>\n",
       "      <td>France</td>\n",
       "      <td>Female</td>\n",
       "      <td>39</td>\n",
       "      <td>1</td>\n",
       "      <td>0.00</td>\n",
       "      <td>2</td>\n",
       "      <td>0</td>\n",
       "      <td>0</td>\n",
       "      <td>93826.63</td>\n",
       "      <td>0</td>\n",
       "    </tr>\n",
       "    <tr>\n",
       "      <th>4</th>\n",
       "      <td>850</td>\n",
       "      <td>Spain</td>\n",
       "      <td>Female</td>\n",
       "      <td>43</td>\n",
       "      <td>2</td>\n",
       "      <td>125510.82</td>\n",
       "      <td>1</td>\n",
       "      <td>1</td>\n",
       "      <td>1</td>\n",
       "      <td>79084.10</td>\n",
       "      <td>0</td>\n",
       "    </tr>\n",
       "  </tbody>\n",
       "</table>\n",
       "</div>"
      ],
      "text/plain": [
       "   CreditScore Geography  Gender  Age  Tenure    Balance  NumOfProducts  \\\n",
       "0          619    France  Female   42       2       0.00              1   \n",
       "1          608     Spain  Female   41       1   83807.86              1   \n",
       "2          502    France  Female   42       8  159660.80              3   \n",
       "3          699    France  Female   39       1       0.00              2   \n",
       "4          850     Spain  Female   43       2  125510.82              1   \n",
       "\n",
       "   HasCrCard  IsActiveMember  EstimatedSalary  Exited  \n",
       "0          1               1        101348.88       1  \n",
       "1          0               1        112542.58       0  \n",
       "2          1               0        113931.57       1  \n",
       "3          0               0         93826.63       0  \n",
       "4          1               1         79084.10       0  "
      ]
     },
     "execution_count": 5,
     "metadata": {},
     "output_type": "execute_result"
    }
   ],
   "source": [
    "df.drop(['CustomerId', 'Surname'], axis=1, inplace=True)\n",
    "df.head()"
   ]
  },
  {
   "cell_type": "code",
   "execution_count": 6,
   "id": "bb729729",
   "metadata": {},
   "outputs": [
    {
     "data": {
      "application/vnd.microsoft.datawrangler.viewer.v0+json": {
       "columns": [
        {
         "name": "index",
         "rawType": "object",
         "type": "string"
        },
        {
         "name": "CreditScore",
         "rawType": "float64",
         "type": "float"
        },
        {
         "name": "Age",
         "rawType": "float64",
         "type": "float"
        },
        {
         "name": "Tenure",
         "rawType": "float64",
         "type": "float"
        },
        {
         "name": "Balance",
         "rawType": "float64",
         "type": "float"
        },
        {
         "name": "NumOfProducts",
         "rawType": "float64",
         "type": "float"
        },
        {
         "name": "HasCrCard",
         "rawType": "float64",
         "type": "float"
        },
        {
         "name": "IsActiveMember",
         "rawType": "float64",
         "type": "float"
        },
        {
         "name": "EstimatedSalary",
         "rawType": "float64",
         "type": "float"
        },
        {
         "name": "Exited",
         "rawType": "float64",
         "type": "float"
        }
       ],
       "conversionMethod": "pd.DataFrame",
       "ref": "c8aedb62-5a72-4274-821f-df6dbf9a6f4a",
       "rows": [
        [
         "count",
         "10000.0",
         "10000.0",
         "10000.0",
         "10000.0",
         "10000.0",
         "10000.0",
         "10000.0",
         "10000.0",
         "10000.0"
        ],
        [
         "mean",
         "650.5288",
         "38.9218",
         "5.0128",
         "76485.889288",
         "1.5302",
         "0.7055",
         "0.5151",
         "100090.239881",
         "0.2037"
        ],
        [
         "std",
         "96.65329873613035",
         "10.487806451704609",
         "2.8921743770496837",
         "62397.405202385955",
         "0.5816543579989906",
         "0.4558404644751333",
         "0.49979692845891893",
         "57510.49281769816",
         "0.4027685839948609"
        ],
        [
         "min",
         "350.0",
         "18.0",
         "0.0",
         "0.0",
         "1.0",
         "0.0",
         "0.0",
         "11.58",
         "0.0"
        ],
        [
         "25%",
         "584.0",
         "32.0",
         "3.0",
         "0.0",
         "1.0",
         "0.0",
         "0.0",
         "51002.11",
         "0.0"
        ],
        [
         "50%",
         "652.0",
         "37.0",
         "5.0",
         "97198.54000000001",
         "1.0",
         "1.0",
         "1.0",
         "100193.915",
         "0.0"
        ],
        [
         "75%",
         "718.0",
         "44.0",
         "7.0",
         "127644.24",
         "2.0",
         "1.0",
         "1.0",
         "149388.2475",
         "0.0"
        ],
        [
         "max",
         "850.0",
         "92.0",
         "10.0",
         "250898.09",
         "4.0",
         "1.0",
         "1.0",
         "199992.48",
         "1.0"
        ]
       ],
       "shape": {
        "columns": 9,
        "rows": 8
       }
      },
      "text/html": [
       "<div>\n",
       "<style scoped>\n",
       "    .dataframe tbody tr th:only-of-type {\n",
       "        vertical-align: middle;\n",
       "    }\n",
       "\n",
       "    .dataframe tbody tr th {\n",
       "        vertical-align: top;\n",
       "    }\n",
       "\n",
       "    .dataframe thead th {\n",
       "        text-align: right;\n",
       "    }\n",
       "</style>\n",
       "<table border=\"1\" class=\"dataframe\">\n",
       "  <thead>\n",
       "    <tr style=\"text-align: right;\">\n",
       "      <th></th>\n",
       "      <th>CreditScore</th>\n",
       "      <th>Age</th>\n",
       "      <th>Tenure</th>\n",
       "      <th>Balance</th>\n",
       "      <th>NumOfProducts</th>\n",
       "      <th>HasCrCard</th>\n",
       "      <th>IsActiveMember</th>\n",
       "      <th>EstimatedSalary</th>\n",
       "      <th>Exited</th>\n",
       "    </tr>\n",
       "  </thead>\n",
       "  <tbody>\n",
       "    <tr>\n",
       "      <th>count</th>\n",
       "      <td>10000.000000</td>\n",
       "      <td>10000.000000</td>\n",
       "      <td>10000.000000</td>\n",
       "      <td>10000.000000</td>\n",
       "      <td>10000.000000</td>\n",
       "      <td>10000.00000</td>\n",
       "      <td>10000.000000</td>\n",
       "      <td>10000.000000</td>\n",
       "      <td>10000.000000</td>\n",
       "    </tr>\n",
       "    <tr>\n",
       "      <th>mean</th>\n",
       "      <td>650.528800</td>\n",
       "      <td>38.921800</td>\n",
       "      <td>5.012800</td>\n",
       "      <td>76485.889288</td>\n",
       "      <td>1.530200</td>\n",
       "      <td>0.70550</td>\n",
       "      <td>0.515100</td>\n",
       "      <td>100090.239881</td>\n",
       "      <td>0.203700</td>\n",
       "    </tr>\n",
       "    <tr>\n",
       "      <th>std</th>\n",
       "      <td>96.653299</td>\n",
       "      <td>10.487806</td>\n",
       "      <td>2.892174</td>\n",
       "      <td>62397.405202</td>\n",
       "      <td>0.581654</td>\n",
       "      <td>0.45584</td>\n",
       "      <td>0.499797</td>\n",
       "      <td>57510.492818</td>\n",
       "      <td>0.402769</td>\n",
       "    </tr>\n",
       "    <tr>\n",
       "      <th>min</th>\n",
       "      <td>350.000000</td>\n",
       "      <td>18.000000</td>\n",
       "      <td>0.000000</td>\n",
       "      <td>0.000000</td>\n",
       "      <td>1.000000</td>\n",
       "      <td>0.00000</td>\n",
       "      <td>0.000000</td>\n",
       "      <td>11.580000</td>\n",
       "      <td>0.000000</td>\n",
       "    </tr>\n",
       "    <tr>\n",
       "      <th>25%</th>\n",
       "      <td>584.000000</td>\n",
       "      <td>32.000000</td>\n",
       "      <td>3.000000</td>\n",
       "      <td>0.000000</td>\n",
       "      <td>1.000000</td>\n",
       "      <td>0.00000</td>\n",
       "      <td>0.000000</td>\n",
       "      <td>51002.110000</td>\n",
       "      <td>0.000000</td>\n",
       "    </tr>\n",
       "    <tr>\n",
       "      <th>50%</th>\n",
       "      <td>652.000000</td>\n",
       "      <td>37.000000</td>\n",
       "      <td>5.000000</td>\n",
       "      <td>97198.540000</td>\n",
       "      <td>1.000000</td>\n",
       "      <td>1.00000</td>\n",
       "      <td>1.000000</td>\n",
       "      <td>100193.915000</td>\n",
       "      <td>0.000000</td>\n",
       "    </tr>\n",
       "    <tr>\n",
       "      <th>75%</th>\n",
       "      <td>718.000000</td>\n",
       "      <td>44.000000</td>\n",
       "      <td>7.000000</td>\n",
       "      <td>127644.240000</td>\n",
       "      <td>2.000000</td>\n",
       "      <td>1.00000</td>\n",
       "      <td>1.000000</td>\n",
       "      <td>149388.247500</td>\n",
       "      <td>0.000000</td>\n",
       "    </tr>\n",
       "    <tr>\n",
       "      <th>max</th>\n",
       "      <td>850.000000</td>\n",
       "      <td>92.000000</td>\n",
       "      <td>10.000000</td>\n",
       "      <td>250898.090000</td>\n",
       "      <td>4.000000</td>\n",
       "      <td>1.00000</td>\n",
       "      <td>1.000000</td>\n",
       "      <td>199992.480000</td>\n",
       "      <td>1.000000</td>\n",
       "    </tr>\n",
       "  </tbody>\n",
       "</table>\n",
       "</div>"
      ],
      "text/plain": [
       "        CreditScore           Age        Tenure        Balance  NumOfProducts  \\\n",
       "count  10000.000000  10000.000000  10000.000000   10000.000000   10000.000000   \n",
       "mean     650.528800     38.921800      5.012800   76485.889288       1.530200   \n",
       "std       96.653299     10.487806      2.892174   62397.405202       0.581654   \n",
       "min      350.000000     18.000000      0.000000       0.000000       1.000000   \n",
       "25%      584.000000     32.000000      3.000000       0.000000       1.000000   \n",
       "50%      652.000000     37.000000      5.000000   97198.540000       1.000000   \n",
       "75%      718.000000     44.000000      7.000000  127644.240000       2.000000   \n",
       "max      850.000000     92.000000     10.000000  250898.090000       4.000000   \n",
       "\n",
       "         HasCrCard  IsActiveMember  EstimatedSalary        Exited  \n",
       "count  10000.00000    10000.000000     10000.000000  10000.000000  \n",
       "mean       0.70550        0.515100    100090.239881      0.203700  \n",
       "std        0.45584        0.499797     57510.492818      0.402769  \n",
       "min        0.00000        0.000000        11.580000      0.000000  \n",
       "25%        0.00000        0.000000     51002.110000      0.000000  \n",
       "50%        1.00000        1.000000    100193.915000      0.000000  \n",
       "75%        1.00000        1.000000    149388.247500      0.000000  \n",
       "max        1.00000        1.000000    199992.480000      1.000000  "
      ]
     },
     "execution_count": 6,
     "metadata": {},
     "output_type": "execute_result"
    }
   ],
   "source": [
    "df.describe()"
   ]
  },
  {
   "cell_type": "code",
   "execution_count": 7,
   "id": "62475fb0",
   "metadata": {},
   "outputs": [
    {
     "name": "stdout",
     "output_type": "stream",
     "text": [
      "Total Customers: 10000\n",
      "Churned Customers: 2037\n",
      "Churn Rate (%): 20.37\n"
     ]
    }
   ],
   "source": [
    "# Total customers\n",
    "total_customers = df.shape[0]\n",
    "\n",
    "# Total churned customers\n",
    "churned_customers = df[df['Exited'] == 1].shape[0]\n",
    "\n",
    "# Churn rate in %\n",
    "churn_rate = round((churned_customers / total_customers) * 100, 2)\n",
    "\n",
    "print(\"Total Customers:\", total_customers)\n",
    "print(\"Churned Customers:\", churned_customers)\n",
    "print(\"Churn Rate (%):\", churn_rate)\n"
   ]
  },
  {
   "cell_type": "markdown",
   "id": "a5f0d73a",
   "metadata": {},
   "source": [
    "Total Customers: 10,000\n",
    "\n",
    "Churned Customers: Around 2,037\n",
    "\n",
    "Churn Rate: ~20.37%\n",
    "\n",
    "This means around 20% of the customers left the bank, which is a significant number."
   ]
  },
  {
   "cell_type": "code",
   "execution_count": 8,
   "id": "f7f5c3c3",
   "metadata": {},
   "outputs": [
    {
     "data": {
      "application/vnd.microsoft.datawrangler.viewer.v0+json": {
       "columns": [
        {
         "name": "Geography",
         "rawType": "object",
         "type": "string"
        },
        {
         "name": "Total Customers",
         "rawType": "int64",
         "type": "integer"
        },
        {
         "name": "Churned Customers",
         "rawType": "int64",
         "type": "integer"
        },
        {
         "name": "Churn Rate (%)",
         "rawType": "float64",
         "type": "float"
        }
       ],
       "conversionMethod": "pd.DataFrame",
       "ref": "150c7b2f-1cbb-4ad4-aa9b-72a355200b92",
       "rows": [
        [
         "Germany",
         "2509",
         "814",
         "32.44"
        ],
        [
         "Spain",
         "2477",
         "413",
         "16.67"
        ],
        [
         "France",
         "5014",
         "810",
         "16.15"
        ]
       ],
       "shape": {
        "columns": 3,
        "rows": 3
       }
      },
      "text/html": [
       "<div>\n",
       "<style scoped>\n",
       "    .dataframe tbody tr th:only-of-type {\n",
       "        vertical-align: middle;\n",
       "    }\n",
       "\n",
       "    .dataframe tbody tr th {\n",
       "        vertical-align: top;\n",
       "    }\n",
       "\n",
       "    .dataframe thead th {\n",
       "        text-align: right;\n",
       "    }\n",
       "</style>\n",
       "<table border=\"1\" class=\"dataframe\">\n",
       "  <thead>\n",
       "    <tr style=\"text-align: right;\">\n",
       "      <th></th>\n",
       "      <th>Total Customers</th>\n",
       "      <th>Churned Customers</th>\n",
       "      <th>Churn Rate (%)</th>\n",
       "    </tr>\n",
       "    <tr>\n",
       "      <th>Geography</th>\n",
       "      <th></th>\n",
       "      <th></th>\n",
       "      <th></th>\n",
       "    </tr>\n",
       "  </thead>\n",
       "  <tbody>\n",
       "    <tr>\n",
       "      <th>Germany</th>\n",
       "      <td>2509</td>\n",
       "      <td>814</td>\n",
       "      <td>32.44</td>\n",
       "    </tr>\n",
       "    <tr>\n",
       "      <th>Spain</th>\n",
       "      <td>2477</td>\n",
       "      <td>413</td>\n",
       "      <td>16.67</td>\n",
       "    </tr>\n",
       "    <tr>\n",
       "      <th>France</th>\n",
       "      <td>5014</td>\n",
       "      <td>810</td>\n",
       "      <td>16.15</td>\n",
       "    </tr>\n",
       "  </tbody>\n",
       "</table>\n",
       "</div>"
      ],
      "text/plain": [
       "           Total Customers  Churned Customers  Churn Rate (%)\n",
       "Geography                                                    \n",
       "Germany               2509                814           32.44\n",
       "Spain                 2477                413           16.67\n",
       "France                5014                810           16.15"
      ]
     },
     "execution_count": 8,
     "metadata": {},
     "output_type": "execute_result"
    }
   ],
   "source": [
    "# Churn rate by Geography\n",
    "geo_churn = df.groupby('Geography')['Exited'].agg(['count', 'sum'])\n",
    "geo_churn['Churn Rate (%)'] = round((geo_churn['sum'] / geo_churn['count']) * 100, 2)\n",
    "geo_churn.rename(columns={'count': 'Total Customers', 'sum': 'Churned Customers'}, inplace=True)\n",
    "geo_churn.sort_values('Churn Rate (%)', ascending=False)"
   ]
  },
  {
   "cell_type": "markdown",
   "id": "5322a084",
   "metadata": {},
   "source": [
    "\n",
    "This shows us churn percentage country-wise:\n",
    "-  **Germany has the highest churn rate.**\n",
    "-  **France has the lowest.**\n",
    "\n",
    "So the bank may need to focus more on German customers to reduce churn."
   ]
  },
  {
   "cell_type": "code",
   "execution_count": 9,
   "id": "2a3f5b36",
   "metadata": {},
   "outputs": [
    {
     "data": {
      "application/vnd.microsoft.datawrangler.viewer.v0+json": {
       "columns": [
        {
         "name": "Gender",
         "rawType": "object",
         "type": "string"
        },
        {
         "name": "Total Customers",
         "rawType": "int64",
         "type": "integer"
        },
        {
         "name": "Churned Customers",
         "rawType": "int64",
         "type": "integer"
        },
        {
         "name": "Churn Rate (%)",
         "rawType": "float64",
         "type": "float"
        }
       ],
       "conversionMethod": "pd.DataFrame",
       "ref": "3e0a2812-02e6-4a95-855c-0a479cf6698f",
       "rows": [
        [
         "Female",
         "4543",
         "1139",
         "25.07"
        ],
        [
         "Male",
         "5457",
         "898",
         "16.46"
        ]
       ],
       "shape": {
        "columns": 3,
        "rows": 2
       }
      },
      "text/html": [
       "<div>\n",
       "<style scoped>\n",
       "    .dataframe tbody tr th:only-of-type {\n",
       "        vertical-align: middle;\n",
       "    }\n",
       "\n",
       "    .dataframe tbody tr th {\n",
       "        vertical-align: top;\n",
       "    }\n",
       "\n",
       "    .dataframe thead th {\n",
       "        text-align: right;\n",
       "    }\n",
       "</style>\n",
       "<table border=\"1\" class=\"dataframe\">\n",
       "  <thead>\n",
       "    <tr style=\"text-align: right;\">\n",
       "      <th></th>\n",
       "      <th>Total Customers</th>\n",
       "      <th>Churned Customers</th>\n",
       "      <th>Churn Rate (%)</th>\n",
       "    </tr>\n",
       "    <tr>\n",
       "      <th>Gender</th>\n",
       "      <th></th>\n",
       "      <th></th>\n",
       "      <th></th>\n",
       "    </tr>\n",
       "  </thead>\n",
       "  <tbody>\n",
       "    <tr>\n",
       "      <th>Female</th>\n",
       "      <td>4543</td>\n",
       "      <td>1139</td>\n",
       "      <td>25.07</td>\n",
       "    </tr>\n",
       "    <tr>\n",
       "      <th>Male</th>\n",
       "      <td>5457</td>\n",
       "      <td>898</td>\n",
       "      <td>16.46</td>\n",
       "    </tr>\n",
       "  </tbody>\n",
       "</table>\n",
       "</div>"
      ],
      "text/plain": [
       "        Total Customers  Churned Customers  Churn Rate (%)\n",
       "Gender                                                    \n",
       "Female             4543               1139           25.07\n",
       "Male               5457                898           16.46"
      ]
     },
     "execution_count": 9,
     "metadata": {},
     "output_type": "execute_result"
    }
   ],
   "source": [
    "# Churn rate by Gender\n",
    "gender_churn = df.groupby('Gender')['Exited'].agg(['count', 'sum'])\n",
    "gender_churn['Churn Rate (%)'] = round((gender_churn['sum'] / gender_churn['count']) * 100, 2)\n",
    "gender_churn.rename(columns={'count': 'Total Customers', 'sum': 'Churned Customers'}, inplace=True)\n",
    "gender_churn\n"
   ]
  },
  {
   "cell_type": "markdown",
   "id": "9f1ad305",
   "metadata": {},
   "source": [
    "This shows:\n",
    "\n",
    "- Female customers have a higher churn rate than males.\n",
    "\n",
    "- Bank may need to improve engagement with female customers."
   ]
  },
  {
   "cell_type": "code",
   "execution_count": 10,
   "id": "6d021489",
   "metadata": {},
   "outputs": [
    {
     "data": {
      "application/vnd.microsoft.datawrangler.viewer.v0+json": {
       "columns": [
        {
         "name": "IsActiveMember",
         "rawType": "int64",
         "type": "integer"
        },
        {
         "name": "Total Customers",
         "rawType": "int64",
         "type": "integer"
        },
        {
         "name": "Churned Customers",
         "rawType": "int64",
         "type": "integer"
        },
        {
         "name": "Churn Rate (%)",
         "rawType": "float64",
         "type": "float"
        }
       ],
       "conversionMethod": "pd.DataFrame",
       "ref": "ade7a8e9-0e93-489c-804a-dc4df4ae5d74",
       "rows": [
        [
         "0",
         "4849",
         "1302",
         "26.85"
        ],
        [
         "1",
         "5151",
         "735",
         "14.27"
        ]
       ],
       "shape": {
        "columns": 3,
        "rows": 2
       }
      },
      "text/html": [
       "<div>\n",
       "<style scoped>\n",
       "    .dataframe tbody tr th:only-of-type {\n",
       "        vertical-align: middle;\n",
       "    }\n",
       "\n",
       "    .dataframe tbody tr th {\n",
       "        vertical-align: top;\n",
       "    }\n",
       "\n",
       "    .dataframe thead th {\n",
       "        text-align: right;\n",
       "    }\n",
       "</style>\n",
       "<table border=\"1\" class=\"dataframe\">\n",
       "  <thead>\n",
       "    <tr style=\"text-align: right;\">\n",
       "      <th></th>\n",
       "      <th>Total Customers</th>\n",
       "      <th>Churned Customers</th>\n",
       "      <th>Churn Rate (%)</th>\n",
       "    </tr>\n",
       "    <tr>\n",
       "      <th>IsActiveMember</th>\n",
       "      <th></th>\n",
       "      <th></th>\n",
       "      <th></th>\n",
       "    </tr>\n",
       "  </thead>\n",
       "  <tbody>\n",
       "    <tr>\n",
       "      <th>0</th>\n",
       "      <td>4849</td>\n",
       "      <td>1302</td>\n",
       "      <td>26.85</td>\n",
       "    </tr>\n",
       "    <tr>\n",
       "      <th>1</th>\n",
       "      <td>5151</td>\n",
       "      <td>735</td>\n",
       "      <td>14.27</td>\n",
       "    </tr>\n",
       "  </tbody>\n",
       "</table>\n",
       "</div>"
      ],
      "text/plain": [
       "                Total Customers  Churned Customers  Churn Rate (%)\n",
       "IsActiveMember                                                    \n",
       "0                          4849               1302           26.85\n",
       "1                          5151                735           14.27"
      ]
     },
     "execution_count": 10,
     "metadata": {},
     "output_type": "execute_result"
    }
   ],
   "source": [
    "# Churn rate by Active status\n",
    "active_churn = df.groupby('IsActiveMember')['Exited'].agg(['count', 'sum'])\n",
    "active_churn['Churn Rate (%)'] = round((active_churn['sum'] / active_churn['count']) * 100, 2)\n",
    "active_churn.rename(columns={'count': 'Total Customers', 'sum': 'Churned Customers'}, inplace=True)\n",
    "active_churn\n"
   ]
  },
  {
   "cell_type": "markdown",
   "id": "009fbf9a",
   "metadata": {},
   "source": [
    "Inactive members have a higher churn rate.\n",
    "\n",
    "Bank should focus on increasing activity and engagement to retain them."
   ]
  },
  {
   "cell_type": "code",
   "execution_count": 11,
   "id": "14260dab",
   "metadata": {},
   "outputs": [
    {
     "data": {
      "application/vnd.microsoft.datawrangler.viewer.v0+json": {
       "columns": [
        {
         "name": "CreditScoreGroup",
         "rawType": "category",
         "type": "unknown"
        },
        {
         "name": "Total Customers",
         "rawType": "int64",
         "type": "integer"
        },
        {
         "name": "Churned Customers",
         "rawType": "int64",
         "type": "integer"
        },
        {
         "name": "Churn Rate (%)",
         "rawType": "float64",
         "type": "float"
        }
       ],
       "conversionMethod": "pd.DataFrame",
       "ref": "b2e7e305-b321-4358-b553-a182e6ab63c3",
       "rows": [
        [
         "Low",
         "643",
         "152",
         "23.64"
        ],
        [
         "Medium",
         "4294",
         "905",
         "21.08"
        ],
        [
         "High",
         "4418",
         "853",
         "19.31"
        ],
        [
         "Very High",
         "645",
         "127",
         "19.69"
        ]
       ],
       "shape": {
        "columns": 3,
        "rows": 4
       }
      },
      "text/html": [
       "<div>\n",
       "<style scoped>\n",
       "    .dataframe tbody tr th:only-of-type {\n",
       "        vertical-align: middle;\n",
       "    }\n",
       "\n",
       "    .dataframe tbody tr th {\n",
       "        vertical-align: top;\n",
       "    }\n",
       "\n",
       "    .dataframe thead th {\n",
       "        text-align: right;\n",
       "    }\n",
       "</style>\n",
       "<table border=\"1\" class=\"dataframe\">\n",
       "  <thead>\n",
       "    <tr style=\"text-align: right;\">\n",
       "      <th></th>\n",
       "      <th>Total Customers</th>\n",
       "      <th>Churned Customers</th>\n",
       "      <th>Churn Rate (%)</th>\n",
       "    </tr>\n",
       "    <tr>\n",
       "      <th>CreditScoreGroup</th>\n",
       "      <th></th>\n",
       "      <th></th>\n",
       "      <th></th>\n",
       "    </tr>\n",
       "  </thead>\n",
       "  <tbody>\n",
       "    <tr>\n",
       "      <th>Low</th>\n",
       "      <td>643</td>\n",
       "      <td>152</td>\n",
       "      <td>23.64</td>\n",
       "    </tr>\n",
       "    <tr>\n",
       "      <th>Medium</th>\n",
       "      <td>4294</td>\n",
       "      <td>905</td>\n",
       "      <td>21.08</td>\n",
       "    </tr>\n",
       "    <tr>\n",
       "      <th>High</th>\n",
       "      <td>4418</td>\n",
       "      <td>853</td>\n",
       "      <td>19.31</td>\n",
       "    </tr>\n",
       "    <tr>\n",
       "      <th>Very High</th>\n",
       "      <td>645</td>\n",
       "      <td>127</td>\n",
       "      <td>19.69</td>\n",
       "    </tr>\n",
       "  </tbody>\n",
       "</table>\n",
       "</div>"
      ],
      "text/plain": [
       "                  Total Customers  Churned Customers  Churn Rate (%)\n",
       "CreditScoreGroup                                                    \n",
       "Low                           643                152           23.64\n",
       "Medium                       4294                905           21.08\n",
       "High                         4418                853           19.31\n",
       "Very High                     645                127           19.69"
      ]
     },
     "execution_count": 11,
     "metadata": {},
     "output_type": "execute_result"
    }
   ],
   "source": [
    "# Binning credit score into categories\n",
    "df['CreditScoreGroup'] = pd.cut(df['CreditScore'], bins=[300, 500, 650, 800, 900], \n",
    "                                labels=['Low', 'Medium', 'High', 'Very High'])\n",
    "\n",
    "# Churn by Credit Score group\n",
    "credit_churn = df.groupby('CreditScoreGroup')['Exited'].agg(['count', 'sum'])\n",
    "credit_churn['Churn Rate (%)'] = round((credit_churn['sum'] / credit_churn['count']) * 100, 2)\n",
    "credit_churn.rename(columns={'count': 'Total Customers', 'sum': 'Churned Customers'}, inplace=True)\n",
    "credit_churn\n"
   ]
  },
  {
   "cell_type": "markdown",
   "id": "6c1f8961",
   "metadata": {},
   "source": [
    "We categorized the credit score into 4 groups: Low, Medium, High, and Very High.\n",
    "\n",
    "From the result:\n",
    "- Customers with **Low Credit Score** have a slightly higher churn rate.\n",
    "- But overall, Credit Score alone is not a strong indicator of churn.\n",
    "We may need to combine it with other features for better understanding.\n"
   ]
  },
  {
   "cell_type": "code",
   "execution_count": 12,
   "id": "d446cb64",
   "metadata": {},
   "outputs": [
    {
     "data": {
      "application/vnd.microsoft.datawrangler.viewer.v0+json": {
       "columns": [
        {
         "name": "BalanceGroup",
         "rawType": "category",
         "type": "unknown"
        },
        {
         "name": "Total Customers",
         "rawType": "int64",
         "type": "integer"
        },
        {
         "name": "Churned Customers",
         "rawType": "int64",
         "type": "integer"
        },
        {
         "name": "Churn Rate (%)",
         "rawType": "float64",
         "type": "float"
        }
       ],
       "conversionMethod": "pd.DataFrame",
       "ref": "0bf51a45-346c-4dab-93ea-897a5ae3fdf9",
       "rows": [
        [
         "Zero",
         "3617",
         "500",
         "13.82"
        ],
        [
         "Low",
         "75",
         "26",
         "34.67"
        ],
        [
         "Medium",
         "1509",
         "300",
         "19.88"
        ],
        [
         "High",
         "3830",
         "987",
         "25.77"
        ],
        [
         "Very High",
         "935",
         "205",
         "21.93"
        ]
       ],
       "shape": {
        "columns": 3,
        "rows": 5
       }
      },
      "text/html": [
       "<div>\n",
       "<style scoped>\n",
       "    .dataframe tbody tr th:only-of-type {\n",
       "        vertical-align: middle;\n",
       "    }\n",
       "\n",
       "    .dataframe tbody tr th {\n",
       "        vertical-align: top;\n",
       "    }\n",
       "\n",
       "    .dataframe thead th {\n",
       "        text-align: right;\n",
       "    }\n",
       "</style>\n",
       "<table border=\"1\" class=\"dataframe\">\n",
       "  <thead>\n",
       "    <tr style=\"text-align: right;\">\n",
       "      <th></th>\n",
       "      <th>Total Customers</th>\n",
       "      <th>Churned Customers</th>\n",
       "      <th>Churn Rate (%)</th>\n",
       "    </tr>\n",
       "    <tr>\n",
       "      <th>BalanceGroup</th>\n",
       "      <th></th>\n",
       "      <th></th>\n",
       "      <th></th>\n",
       "    </tr>\n",
       "  </thead>\n",
       "  <tbody>\n",
       "    <tr>\n",
       "      <th>Zero</th>\n",
       "      <td>3617</td>\n",
       "      <td>500</td>\n",
       "      <td>13.82</td>\n",
       "    </tr>\n",
       "    <tr>\n",
       "      <th>Low</th>\n",
       "      <td>75</td>\n",
       "      <td>26</td>\n",
       "      <td>34.67</td>\n",
       "    </tr>\n",
       "    <tr>\n",
       "      <th>Medium</th>\n",
       "      <td>1509</td>\n",
       "      <td>300</td>\n",
       "      <td>19.88</td>\n",
       "    </tr>\n",
       "    <tr>\n",
       "      <th>High</th>\n",
       "      <td>3830</td>\n",
       "      <td>987</td>\n",
       "      <td>25.77</td>\n",
       "    </tr>\n",
       "    <tr>\n",
       "      <th>Very High</th>\n",
       "      <td>935</td>\n",
       "      <td>205</td>\n",
       "      <td>21.93</td>\n",
       "    </tr>\n",
       "  </tbody>\n",
       "</table>\n",
       "</div>"
      ],
      "text/plain": [
       "              Total Customers  Churned Customers  Churn Rate (%)\n",
       "BalanceGroup                                                    \n",
       "Zero                     3617                500           13.82\n",
       "Low                        75                 26           34.67\n",
       "Medium                   1509                300           19.88\n",
       "High                     3830                987           25.77\n",
       "Very High                 935                205           21.93"
      ]
     },
     "execution_count": 12,
     "metadata": {},
     "output_type": "execute_result"
    }
   ],
   "source": [
    "# Create balance groups\n",
    "df['BalanceGroup'] = pd.cut(df['Balance'], bins=[-1, 0, 50000, 100000, 150000, 200000], \n",
    "                            labels=['Zero', 'Low', 'Medium', 'High', 'Very High'])\n",
    "\n",
    "# Churn by balance group\n",
    "balance_churn = df.groupby('BalanceGroup')['Exited'].agg(['count', 'sum'])\n",
    "balance_churn['Churn Rate (%)'] = round((balance_churn['sum'] / balance_churn['count']) * 100, 2)\n",
    "balance_churn.rename(columns={'count': 'Total Customers', 'sum': 'Churned Customers'}, inplace=True)\n",
    "balance_churn"
   ]
  },
  {
   "cell_type": "markdown",
   "id": "3a36023b",
   "metadata": {},
   "source": [
    "We created groups based on account balance and calculated churn rate.\n",
    "\n",
    "Insights:\n",
    "- Customers with **zero balance** have the lowest churn rate.\n",
    "- Surprisingly, churn rate increases with higher balances.\n",
    "  This may mean that high-value customers are more likely to leave, which is a serious issue for the bank.\n"
   ]
  },
  {
   "cell_type": "code",
   "execution_count": 13,
   "id": "10dd70ba",
   "metadata": {},
   "outputs": [
    {
     "data": {
      "application/vnd.microsoft.datawrangler.viewer.v0+json": {
       "columns": [
        {
         "name": "Tenure",
         "rawType": "int64",
         "type": "integer"
        },
        {
         "name": "Total Customers",
         "rawType": "int64",
         "type": "integer"
        },
        {
         "name": "Churned Customers",
         "rawType": "int64",
         "type": "integer"
        },
        {
         "name": "Churn Rate (%)",
         "rawType": "float64",
         "type": "float"
        }
       ],
       "conversionMethod": "pd.DataFrame",
       "ref": "a14cc9bc-efb3-4f37-9108-875893d5fcf4",
       "rows": [
        [
         "0",
         "413",
         "95",
         "23.0"
        ],
        [
         "1",
         "1035",
         "232",
         "22.42"
        ],
        [
         "2",
         "1048",
         "201",
         "19.18"
        ],
        [
         "3",
         "1009",
         "213",
         "21.11"
        ],
        [
         "4",
         "989",
         "203",
         "20.53"
        ],
        [
         "5",
         "1012",
         "209",
         "20.65"
        ],
        [
         "6",
         "967",
         "196",
         "20.27"
        ],
        [
         "7",
         "1028",
         "177",
         "17.22"
        ],
        [
         "8",
         "1025",
         "197",
         "19.22"
        ],
        [
         "9",
         "984",
         "213",
         "21.65"
        ],
        [
         "10",
         "490",
         "101",
         "20.61"
        ]
       ],
       "shape": {
        "columns": 3,
        "rows": 11
       }
      },
      "text/html": [
       "<div>\n",
       "<style scoped>\n",
       "    .dataframe tbody tr th:only-of-type {\n",
       "        vertical-align: middle;\n",
       "    }\n",
       "\n",
       "    .dataframe tbody tr th {\n",
       "        vertical-align: top;\n",
       "    }\n",
       "\n",
       "    .dataframe thead th {\n",
       "        text-align: right;\n",
       "    }\n",
       "</style>\n",
       "<table border=\"1\" class=\"dataframe\">\n",
       "  <thead>\n",
       "    <tr style=\"text-align: right;\">\n",
       "      <th></th>\n",
       "      <th>Total Customers</th>\n",
       "      <th>Churned Customers</th>\n",
       "      <th>Churn Rate (%)</th>\n",
       "    </tr>\n",
       "    <tr>\n",
       "      <th>Tenure</th>\n",
       "      <th></th>\n",
       "      <th></th>\n",
       "      <th></th>\n",
       "    </tr>\n",
       "  </thead>\n",
       "  <tbody>\n",
       "    <tr>\n",
       "      <th>0</th>\n",
       "      <td>413</td>\n",
       "      <td>95</td>\n",
       "      <td>23.00</td>\n",
       "    </tr>\n",
       "    <tr>\n",
       "      <th>1</th>\n",
       "      <td>1035</td>\n",
       "      <td>232</td>\n",
       "      <td>22.42</td>\n",
       "    </tr>\n",
       "    <tr>\n",
       "      <th>2</th>\n",
       "      <td>1048</td>\n",
       "      <td>201</td>\n",
       "      <td>19.18</td>\n",
       "    </tr>\n",
       "    <tr>\n",
       "      <th>3</th>\n",
       "      <td>1009</td>\n",
       "      <td>213</td>\n",
       "      <td>21.11</td>\n",
       "    </tr>\n",
       "    <tr>\n",
       "      <th>4</th>\n",
       "      <td>989</td>\n",
       "      <td>203</td>\n",
       "      <td>20.53</td>\n",
       "    </tr>\n",
       "    <tr>\n",
       "      <th>5</th>\n",
       "      <td>1012</td>\n",
       "      <td>209</td>\n",
       "      <td>20.65</td>\n",
       "    </tr>\n",
       "    <tr>\n",
       "      <th>6</th>\n",
       "      <td>967</td>\n",
       "      <td>196</td>\n",
       "      <td>20.27</td>\n",
       "    </tr>\n",
       "    <tr>\n",
       "      <th>7</th>\n",
       "      <td>1028</td>\n",
       "      <td>177</td>\n",
       "      <td>17.22</td>\n",
       "    </tr>\n",
       "    <tr>\n",
       "      <th>8</th>\n",
       "      <td>1025</td>\n",
       "      <td>197</td>\n",
       "      <td>19.22</td>\n",
       "    </tr>\n",
       "    <tr>\n",
       "      <th>9</th>\n",
       "      <td>984</td>\n",
       "      <td>213</td>\n",
       "      <td>21.65</td>\n",
       "    </tr>\n",
       "    <tr>\n",
       "      <th>10</th>\n",
       "      <td>490</td>\n",
       "      <td>101</td>\n",
       "      <td>20.61</td>\n",
       "    </tr>\n",
       "  </tbody>\n",
       "</table>\n",
       "</div>"
      ],
      "text/plain": [
       "        Total Customers  Churned Customers  Churn Rate (%)\n",
       "Tenure                                                    \n",
       "0                   413                 95           23.00\n",
       "1                  1035                232           22.42\n",
       "2                  1048                201           19.18\n",
       "3                  1009                213           21.11\n",
       "4                   989                203           20.53\n",
       "5                  1012                209           20.65\n",
       "6                   967                196           20.27\n",
       "7                  1028                177           17.22\n",
       "8                  1025                197           19.22\n",
       "9                   984                213           21.65\n",
       "10                  490                101           20.61"
      ]
     },
     "execution_count": 13,
     "metadata": {},
     "output_type": "execute_result"
    }
   ],
   "source": [
    "# Churn rate by tenure\n",
    "tenure_churn = df.groupby('Tenure')['Exited'].agg(['count', 'sum'])\n",
    "tenure_churn['Churn Rate (%)'] = round((tenure_churn['sum'] / tenure_churn['count']) * 100, 2)\n",
    "tenure_churn.rename(columns={'count': 'Total Customers', 'sum': 'Churned Customers'}, inplace=True)\n",
    "tenure_churn"
   ]
  },
  {
   "cell_type": "markdown",
   "id": "7aea11a9",
   "metadata": {},
   "source": [
    "We analyzed how long the customer has been with the bank and the impact on churn.\n",
    "\n",
    "Findings:\n",
    "- No clear trend — churn is distributed across different tenure years.\n",
    "- Customers with **3-4 years** tenure have slightly higher churn rate.\n",
    "- This means tenure alone may not explain churn without combining with other variables.\n"
   ]
  },
  {
   "cell_type": "code",
   "execution_count": 14,
   "id": "1609a74c",
   "metadata": {},
   "outputs": [
    {
     "data": {
      "image/png": "[encoded data removed]",
      "text/plain": [
       "<Figure size 600x400 with 1 Axes>"
      ]
     },
     "metadata": {},
     "output_type": "display_data"
    }
   ],
   "source": [
    "plt.figure(figsize=(6,4))\n",
    "sns.countplot(data=df, x='Exited', palette='Set2')\n",
    "plt.title('Churned vs Not Churned Customers')\n",
    "plt.xlabel('Exited (0 = No, 1 = Yes)')\n",
    "plt.ylabel('Count')\n",
    "plt.show()"
   ]
  },
  {
   "cell_type": "markdown",
   "id": "9faa5de7",
   "metadata": {},
   "source": [
    "This chart shows how many customers have left (churned) vs how many stayed.\n",
    "\n",
    "- '0' means customer stayed.\n",
    "- '1' means customer left.\n",
    "\n",
    "From the chart:\n",
    "- Most customers did **not** churn.\n",
    "- Around **20% customers have churned**, which is a serious concern for a bank.\n"
   ]
  },
  {
   "cell_type": "code",
   "execution_count": 15,
   "id": "6b0df2ee",
   "metadata": {},
   "outputs": [
    {
     "data": {
      "image/png": "[encoded data removed]",
      "text/plain": [
       "<Figure size 600x400 with 1 Axes>"
      ]
     },
     "metadata": {},
     "output_type": "display_data"
    }
   ],
   "source": [
    "plt.figure(figsize=(6,4))\n",
    "sns.barplot(data=df, x='Geography', y='Exited', ci=None, palette='muted')\n",
    "plt.title('Churn Rate by Geography')\n",
    "plt.ylabel('Churn Rate')\n",
    "plt.show()"
   ]
  },
  {
   "cell_type": "markdown",
   "id": "637d8601",
   "metadata": {},
   "source": [
    "This chart shows average churn rate by country.\n",
    "\n",
    "- Customers from **Germany** have a much higher churn rate than others.\n",
    "- France and Spain have lower churn.\n",
    "\n",
    "This may help the bank to **focus retention strategies** more in Germany.\n"
   ]
  },
  {
   "cell_type": "code",
   "execution_count": 16,
   "id": "4559f311",
   "metadata": {},
   "outputs": [
    {
     "data": {
      "image/png": "[encoded data removed]",
      "text/plain": [
       "<Figure size 600x400 with 1 Axes>"
      ]
     },
     "metadata": {},
     "output_type": "display_data"
    }
   ],
   "source": [
    "plt.figure(figsize=(6,4))\n",
    "sns.barplot(data=df, x='Gender', y='Exited', ci=None, palette='pastel')\n",
    "plt.title('Churn Rate by Gender')\n",
    "plt.ylabel('Churn Rate')\n",
    "plt.show()"
   ]
  },
  {
   "cell_type": "markdown",
   "id": "cb625ed0",
   "metadata": {},
   "source": [
    "This chart shows the average churn rate for males and females.\n",
    "\n",
    "- Female customers have **slightly higher** churn rate than males.\n",
    "- Bank may consider analyzing **female customer behavior** more closely.\n"
   ]
  },
  {
   "cell_type": "code",
   "execution_count": 18,
   "id": "e460ea1c",
   "metadata": {},
   "outputs": [
    {
     "data": {
      "image/png": "[encoded data removed]",
      "text/plain": [
       "<Figure size 600x400 with 1 Axes>"
      ]
     },
     "metadata": {},
     "output_type": "display_data"
    }
   ],
   "source": [
    "plt.figure(figsize=(6,4))\n",
    "sns.barplot(data=df, x='NumOfProducts', y='Exited', ci=None, palette='Blues')\n",
    "plt.title('Churn Rate by Number of Products')\n",
    "plt.ylabel('Churn Rate')\n",
    "plt.show()"
   ]
  },
  {
   "cell_type": "markdown",
   "id": "e5ac8532",
   "metadata": {},
   "source": [
    "This chart tells us how product holding affects customer churn.\n",
    "\n",
    "- Customers with **1 product** have the highest churn.\n",
    "- Churn decreases with more products.\n",
    "- Customers with more bank products tend to **stay longer** — showing that **cross-selling** is effective for retention.\n"
   ]
  },
  {
   "cell_type": "code",
   "execution_count": 19,
   "id": "ced3c2c9",
   "metadata": {},
   "outputs": [
    {
     "data": {
      "image/png": "[encoded data removed]",
      "text/plain": [
       "<Figure size 600x600 with 1 Axes>"
      ]
     },
     "metadata": {},
     "output_type": "display_data"
    }
   ],
   "source": [
    "# Pie chart of churned vs not churned\n",
    "churn_counts = df['Exited'].value_counts()\n",
    "labels = ['Not Churned', 'Churned']\n",
    "colors = ['#66b3ff','#ff9999']\n",
    "\n",
    "plt.figure(figsize=(6,6))\n",
    "plt.pie(churn_counts, labels=labels, colors=colors, autopct='%1.1f%%', startangle=90)\n",
    "plt.title('Churn Distribution (Pie Chart)')\n",
    "plt.axis('equal')\n",
    "plt.show()\n"
   ]
  },
  {
   "cell_type": "markdown",
   "id": "39729fac",
   "metadata": {},
   "source": [
    "This chart shows the **percentage** of churned and not churned customers.\n",
    "\n",
    "- About **20% customers have churned**.\n",
    "- This visualization is useful for presentations and gives a clear picture of the churn problem.\n"
   ]
  },
  {
   "cell_type": "code",
   "execution_count": 20,
   "id": "ff80dd62",
   "metadata": {},
   "outputs": [
    {
     "data": {
      "image/png": "[encoded data removed]",
      "text/plain": [
       "<Figure size 800x500 with 1 Axes>"
      ]
     },
     "metadata": {},
     "output_type": "display_data"
    }
   ],
   "source": [
    "plt.figure(figsize=(8,5))\n",
    "sns.histplot(df['Age'], kde=True, bins=30, color='skyblue')\n",
    "plt.title('Customer Age Distribution')\n",
    "plt.xlabel('Age')\n",
    "plt.ylabel('Count')\n",
    "plt.show()\n"
   ]
  },
  {
   "cell_type": "markdown",
   "id": "df9155bf",
   "metadata": {},
   "source": [
    "This histogram shows how customer ages are distributed.\n",
    "\n",
    "- Most customers are between **30 to 40 years old**.\n",
    "- There are fewer customers in the very young and very old age groups.\n"
   ]
  },
  {
   "cell_type": "code",
   "execution_count": 21,
   "id": "b2c8bff5",
   "metadata": {},
   "outputs": [
    {
     "data": {
      "image/png": "[encoded data removed]",
      "text/plain": [
       "<Figure size 800x500 with 1 Axes>"
      ]
     },
     "metadata": {},
     "output_type": "display_data"
    }
   ],
   "source": [
    "plt.figure(figsize=(8,5))\n",
    "sns.boxplot(data=df, x='Exited', y='Balance', palette='coolwarm')\n",
    "plt.title('Account Balance vs Churn')\n",
    "plt.xlabel('Exited (0 = No, 1 = Yes)')\n",
    "plt.ylabel('Balance')\n",
    "plt.show()"
   ]
  },
  {
   "cell_type": "markdown",
   "id": "8ec6817b",
   "metadata": {},
   "source": [
    "This boxplot shows the range of balance for churned and non-churned customers.\n",
    "\n",
    "- The **balance distribution** for churned and retained customers is **very similar**.\n",
    "- High balance is **not always a reason for churn**, but it is important to track.\n"
   ]
  },
  {
   "cell_type": "code",
   "execution_count": 22,
   "id": "ed497949",
   "metadata": {},
   "outputs": [
    {
     "data": {
      "image/png": "[encoded data removed]",
      "text/plain": [
       "<Figure size 1000x600 with 2 Axes>"
      ]
     },
     "metadata": {},
     "output_type": "display_data"
    }
   ],
   "source": [
    "plt.figure(figsize=(10,6))\n",
    "corr = df[['CreditScore', 'Age', 'Tenure', 'Balance', 'NumOfProducts', 'HasCrCard', 'IsActiveMember', 'EstimatedSalary', 'Exited']].corr()\n",
    "\n",
    "sns.heatmap(corr, annot=True, cmap='coolwarm', fmt='.2f')\n",
    "plt.title('Correlation Heatmap')\n",
    "plt.show()"
   ]
  },
  {
   "cell_type": "markdown",
   "id": "e6e2d3ae",
   "metadata": {},
   "source": [
    "This heatmap shows the relationship between different numerical features.\n",
    "\n",
    "Key insights:\n",
    "- **Age** has the **strongest positive correlation** with churn.\n",
    "- **IsActiveMember** has a **negative correlation**, meaning active members are less likely to churn.\n",
    "- Other features show weak correlations — so a **combination of features** will be important for prediction.\n"
   ]
  },
  {
   "cell_type": "markdown",
   "id": "215d3e26",
   "metadata": {},
   "source": [
    "### Final Analysis Summary (SQL + Python Analysis)\n",
    "\n",
    "We performed a detailed analysis of bank customers to understand the factors affecting customer churn.\n",
    "\n",
    "#### Key Insights:\n",
    "\n",
    "- **Total Customers:** 10,000  \n",
    "- **Churned Customers:** ~20% of the customers have exited the bank.  \n",
    "- **Geography-wise Churn:**  \n",
    "  - **Germany** has the highest churn rate.  \n",
    "  - **France** has the lowest churn rate.  \n",
    "\n",
    "- **Gender-wise Churn:**  \n",
    "  - **Female customers** have a higher churn rate compared to males.  \n",
    "\n",
    "- **Active vs Inactive Customers:**  \n",
    "  - Inactive customers are more likely to churn.  \n",
    "  - Active members have better retention.  \n",
    "\n",
    "- **Age & Churn:**  \n",
    "  - Customers aged between **40-50** show higher churn risk.  \n",
    "  - Young customers (20–30) are relatively loyal.  \n",
    "\n",
    "- **Credit Score:**  \n",
    "  - No strong correlation found between credit score and churn.  \n",
    "\n",
    "- **Balance and Salary:**  \n",
    "  - High balance alone does not guarantee loyalty.  \n",
    "  - Salary also doesn’t significantly affect churn.  \n",
    "\n",
    "#### Overall Conclusion:\n",
    "Customer churn is influenced more by **geography, gender, activity status, and age** rather than credit score or salary.  \n",
    "These insights will help the bank to focus on **customer engagement** and **personalized retention strategies** for high-risk segments.\n"
   ]
  }
 ],
 "metadata": {
  "kernelspec": {
   "display_name": "Python 3",
   "language": "python",
   "name": "python3"
  },
  "language_info": {
   "codemirror_mode": {
    "name": "ipython",
    "version": 3
   },
   "file_extension": ".py",
   "mimetype": "text/x-python",
   "name": "python",
   "nbconvert_exporter": "python",
   "pygments_lexer": "ipython3",
   "version": "3.12.4"
  }
 },
 "nbformat": 4,
 "nbformat_minor": 5
}
